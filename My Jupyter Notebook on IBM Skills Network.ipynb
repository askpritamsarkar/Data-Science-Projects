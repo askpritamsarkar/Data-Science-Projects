{
 "cells": [
  {
   "cell_type": "markdown",
   "metadata": {},
   "source": [
    "# My Jupyter Notebook on IBM Watson Studio"
   ]
  },
  {
   "cell_type": "markdown",
   "metadata": {},
   "source": [
    "<b> Pritam Sarkar </b> \n",
    "\n",
    "Currently, I am working as an Jr. Software Engineer at Mindtree. I want to be a Data Scientist in Future"
   ]
  },
  {
   "cell_type": "markdown",
   "metadata": {},
   "source": [
    "_Data Science is not only a subject, it's a new way of understanding Data & how we handle it; that is why I love Data Science._"
   ]
  },
  {
   "cell_type": "markdown",
   "metadata": {},
   "source": [
    "### The next cell will calculate how much money I will pay Coursera as tution fee for course  \"Data Science\":"
   ]
  },
  {
   "cell_type": "code",
   "execution_count": 9,
   "metadata": {
    "scrolled": true
   },
   "outputs": [
    {
     "name": "stdout",
     "output_type": "stream",
     "text": [
      "For Data Science course you will pay in total 152 $.\n"
     ]
    }
   ],
   "source": [
    "import math                #importing math for math.ceil() function (rounding up).\n",
    "MonthlyFee = 38            # monthly fee in INR\n",
    "CourseLength = 11          # course length according to Coursera in month\n",
    "MyPace = 3                 # the coefficient which show how much times faster you can pass the course\n",
    "TotalFee = math.ceil(CourseLength/MyPace)*MonthlyFee # counting the fee\n",
    "print('For Data Science course you will pay in total',TotalFee,'₹.') # output the values."
   ]
  },
  {
   "cell_type": "markdown",
   "metadata": {},
   "source": [
    "Because: \n",
    "1. The info is useful\n",
    "2. It is not a lot of money for a 11 months course\n",
    "\n",
    "For me, I think it is fair enough\n",
    "\n",
    "***\n",
    "To see how much you will have to pay, run this below code:\n",
    "\n",
    "```python\n",
    "import math                #importing math for math.ceil() function (rounding up).\n",
    "MonthlyFee = 38            # monthly fee in INR\n",
    "CourseLength = 11          # course length according to Coursera in month\n",
    "MyPace = 3                 # the coefficient which show how much times faster you can pass the course\n",
    "TotalFee = math.ceil(CourseLength/MyPace)*MonthlyFee # counting the fee\n",
    "print('For Data Science course you will pay in total',TotalFee,'₹.') # output the values.\n",
    "\n",
    "```\n",
    "\n",
    "* So go on\n",
    "   \n",
    "   `Try it if you can`\n",
    "   \n",
    "   \n",
    "* Here is the link to course: [IBM Data Science Professional Certificate](https://www.coursera.org/professional-certificates/ibm-data-science \"Enroll\")\n",
    "  \n",
    "# Interesting Fact about IBM Watson: The Watson they built was a room-size supercomputer with thousands of processors running millions of lines of code. Its storage disks were filled with digitized reference works, Wikipedia entries and electronic books. Computing intelligence is a brute force affair, and the hulking machine required 85,000 watts of power.\n",
    "\n",
    "![alt text][logo]\n",
    "\n",
    "[logo]: https://www.bing.com/images/search?view=detailV2&ccid=9hmHo9rC&id=6303333A77831D301FA17E6EFF2019E34962AD97&thid=OIP.9hmHo9rCDpExFXuefy7v5gHaDG&mediaurl=https%3a%2f%2fsoftwarehamilton.com%2fwp-content%2fuploads%2f2016%2f03%2fLogo-IBM-Watson.png&exph=683&expw=1634&q=IBM+Watson+Logo&simid=608017990481627361&FORM=IRPRST&ck=47D2D192924B3A1EFE116E7BBE0C54D2&selectedIndex=0&ajaxhist=0&ajaxserp=0 \"IBM Watson\"\n",
    "   \n",
    "   >“AI can only be as smart as the people teaching it.”\n",
    "― David Kenny, General Manager, IBM Watson\n",
    "\n",
    "~~In order to become a Data Scientist, You have to be topper in Maths, Stats & CS.~~\n"
   ]
  },
  {
   "cell_type": "markdown",
   "metadata": {},
   "source": []
  }
 ],
 "metadata": {
  "kernelspec": {
   "display_name": "Python",
   "language": "python",
   "name": "conda-env-python-py"
  },
  "language_info": {
   "codemirror_mode": {
    "name": "ipython",
    "version": 3
   },
   "file_extension": ".py",
   "mimetype": "text/x-python",
   "name": "python",
   "nbconvert_exporter": "python",
   "pygments_lexer": "ipython3",
   "version": "3.7.12"
  }
 },
 "nbformat": 4,
 "nbformat_minor": 4
}
